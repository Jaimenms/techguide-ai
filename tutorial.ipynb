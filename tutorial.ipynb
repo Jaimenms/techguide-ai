{
 "cells": [
  {
   "cell_type": "markdown",
   "metadata": {},
   "source": [
    "# TechGuide AI\n"
   ]
  },
  {
   "cell_type": "markdown",
   "metadata": {},
   "source": [
    "Imagine que você se interessou por essa vaga https://www.linkedin.com/jobs/view/3921708664 e quer se preparar para mandar bem no processo."
   ]
  },
  {
   "cell_type": "markdown",
   "metadata": {},
   "source": [
    "Faça então o seguinte. Importe o Planner:"
   ]
  },
  {
   "cell_type": "code",
   "execution_count": null,
   "metadata": {},
   "outputs": [],
   "source": [
    "from planner import plan"
   ]
  },
  {
   "cell_type": "markdown",
   "metadata": {},
   "source": [
    "Obtenha a descrição da vaga"
   ]
  },
  {
   "cell_type": "code",
   "execution_count": 3,
   "metadata": {},
   "outputs": [],
   "source": [
    "job_description = \"\"\"A nossa Tribo de Development procura guerreiros Apple iOS Application, com as seguintes competências: \n",
    "- Pelo menos 3 anos de experiência. \n",
    "- Sólidos conhecimentos de: Programação reactiva (RxSwift ou Combine). \n",
    "- Estrutura SwiftUI, Swift, MVVM, Testes unitários. \n",
    "- Portas de qualidade e Layout adaptável. \n",
    "- Padrões de desenho e princípios SOLID. \n",
    "- Conhecimentos de: Princípios de TDD. \n",
    "- Publicação de aplicações na App store. \n",
    "- Gestão de dependências (SPM/CocoaPods). \n",
    "- Inglês. Se valorizas: \n",
    "- Integridade e/com Paixão; \n",
    "- Respeito pelo Indivíduo/Pessoas; \n",
    "- Espírito Jovem e Dinâmico; \n",
    "- Aprendizagem, Colaboração, Partilha e Inovação. \n",
    "\n",
    "Mostra-nos o teu Haka, temos à tua espera: \n",
    "- Integração numa Tribo com Guerreiros de referência; \n",
    "- Plano de Evolução individual e colaborativo; \n",
    "- Projectos e soluções inovadoras. \n",
    "Envia-nos o teu CV!\"\"\""
   ]
  },
  {
   "cell_type": "markdown",
   "metadata": {},
   "source": [
    "Peça para o TechGuide AI para te ajudar a planejar os estudos."
   ]
  },
  {
   "cell_type": "code",
   "execution_count": 6,
   "metadata": {},
   "outputs": [
    {
     "name": "stdout",
     "output_type": "stream",
     "text": [
      "Guerreiro Apple iOS Application! Junte-se à nossa Tribo de Desenvolvimento e mostre as suas habilidades em:\n",
      "\n",
      "* Programação Reativa (RxSwift/Combine)\n",
      "* SwiftUI, Swift, MVVM, Testes Unitários\n",
      "* Padrões de Projeto SOLID\n",
      "* Princípios TDD\n",
      "* Publicação de Aplicativos na App Store\n",
      "\n",
      "Valorizamos:\n",
      "\n",
      "* Integridade, paixão e respeito\n",
      "* Espírito jovem e dinâmico\n",
      "* Cultura de aprendizagem e colaboração\n",
      "* Inovação\n",
      "\n",
      "Oferecemos:\n",
      "\n",
      "* Integração em uma equipe de elite\n",
      "* Plano de desenvolvimento personalizado\n",
      "* Projetos inovadores e desafiadores\n",
      "**Habilidades Essenciais em Desenvolvimento Swift**\n",
      "\n",
      "* Conhecimento das palavras-chave do Swift\n",
      "* Compreensão de fluxo de controle e condicionais\n",
      "* Criação de aplicativos de terminal usando Swift\n",
      "* Familiaridade com os protocolos Encodable e Decodable\n",
      "* Domínio do uso de coleções no Swift\n",
      "\n",
      "**Habilidades Fundamentais em Comunicações de API em iOS**\n",
      "\n",
      "* Conhecimento dos diferentes tipos de APIs em aplicativos iOS\n",
      "* Utilização de bibliotecas/ferramentas para facilitar a comunicação a APIs (como Alamofire, URLSession e Codable)\n",
      "* Seleção e uso de APIs adequadas para necessidades específicas de aplicativos\n",
      "* Teste de comunicações de API em condições variadas para garantir funcionalidade adequada\n",
      "\n",
      "**Habilidades Necessárias em Animações para iOS**\n",
      "\n",
      "* Compreensão do uso do framework UIKit para animação de componentes de interface\n",
      "* Criação de animações usando SwiftUI\n",
      "* Aplicação de transições de tela, atualização de interface de usuário e efeitos visuais por meio de animações\n",
      "\n",
      "**Habilidades Essenciais em Arquiteturas de Aplicativos iOS**\n",
      "\n",
      "* Conhecimento dos conceitos básicos de arquiteturas MVVM, MVC e VIPER\n",
      "* Compreensão das diferenças e vantagens das arquiteturas\n",
      "* Implementação de uma arquitetura escolhida em um aplicativo iOS\n",
      "\n",
      "**Habilidades Fundamentais em Desenvolvimento de Interface com UIKit**\n",
      "\n",
      "* Domínio do Swift ou Objective-C para desenvolvimento de aplicativos iOS\n",
      "* Compreensão do funcionamento do SDK do iOS (Core Foundation e Cocoa Touch)\n",
      "* Familiaridade com os componentes de interface do UIKit\n",
      "* Criação de layouts usando código (ViewCode) e Storyboards\n",
      "* Aplicação dos princípios de Auto Layout para layouts flexíveis e responsivos\n",
      "* Implementação de navegação entre telas e passagem de dados usando controladores de visualização\n",
      "\n",
      "**Habilidades Essenciais em Gerenciamento de Estado**\n",
      "\n",
      "* Compreensão dos fundamentos do gerenciamento de estado em iOS\n",
      "* Uso de estruturas de dados e bibliotecas de gerenciamento de estado\n",
      "* Gerenciamento de estado programático em UIKit\n",
      "* Gerenciamento de estado baseado em propriedade no SwiftUI\n",
      "\n",
      "**Habilidades Necessárias em Recursos de Aplicativos iOS**\n",
      "\n",
      "* Conhecimento dos tipos de recursos de aplicativos iOS (ícones, imagens, etc.)\n",
      "* Utilização de recursos em aplicativos iOS\n",
      "* Personalização de recursos para diferentes dispositivos e resoluções de tela\n",
      "\n",
      "**Habilidades Fundamentais em Uso de Recursos do Sistema iOS**\n",
      "\n",
      "* Conhecimento dos recursos do sistema em iOS (localização, câmera, sensores)\n",
      "* Acesso e uso de recursos do sistema\n",
      "* Criação de aplicativos que utilizam recursos do sistema\n",
      "**Plano de Estudos para Desenvolvedores iOS com Swift**\n",
      "\n",
      "**Objetivo:**\n",
      "\n",
      "Dominar o desenvolvimento de aplicativos iOS usando Swift e SwiftUI, seguindo as melhores práticas da indústria.\n",
      "\n",
      "**Cursos:**\n",
      "\n",
      "1. **Domine a linguagem Swift** (https://cursos.alura.com.br/formacao-domine-linguagem-swift)\n",
      "2. **Formação: Evolua Apps em SwiftUI: CRUD, MVVM e Autenticação** (https://cursos.alura.com.br/formacao-apps-swiftui-crud-mvvm-autenticacao)\n",
      "3. **iOS com SwiftUI: trabalhando com animações e DragGesture** (https://cursos.alura.com.br/course/ios-swiftui-trabalhando-animacoes-draggesture)\n",
      "4. **Swift: aplicando o padrão arquitetural MVVM e boas práticas de separação de responsabilidades** (https://cursos.alura.com.br/course/swift-padrao-arquitetural-mvvm-separacao-responsabilidades)\n",
      "5. **iOS: construindo seu primeiro aplicativo** (https://cursos.alura.com.br/course/ios-construindo-primeiro-aplicativo)\n",
      "6. **iOS com SwiftUI: implementando navegação e gerenciamento de estados** (https://cursos.alura.com.br/course/ios-swiftui-navegacao-gerenciamento-estados)\n",
      "7. **iOS: autenticação, GPS e mais recursos nativos** (https://cursos.alura.com.br/course/ios-autenticacao-gps-recursos-nativos)\n",
      "8. **iOS: usando recursos nativos** (https://cursos.alura.com.br/course/ios-usando-recursos-nativos?preRequirementFrom=ios-autenticacao-gps-recursos-nativos)\n",
      "\n",
      "**Observação:** Os cursos podem ser realizados na sequência ou conforme as necessidades do candidato.\n"
     ]
    }
   ],
   "source": [
    "plan(\n",
    "    job_description=job_description,\n",
    ")"
   ]
  },
  {
   "cell_type": "markdown",
   "metadata": {},
   "source": [
    "Agora se realmente estiver sem tempo, concentre o estudo ao máximo no que é mais relevante. \n",
    "Defina profundidade e disponibilidade reduzidos e consulte novamente o plano:"
   ]
  },
  {
   "cell_type": "code",
   "execution_count": 8,
   "metadata": {},
   "outputs": [
    {
     "name": "stdout",
     "output_type": "stream",
     "text": [
      "Procuramos um desenvolvedor iOS experiente para se juntar à nossa equipa de desenvolvimento. O candidato ideal terá experiência comprovada em desenvolvimento de aplicações iOS e conhecimento profundo das tecnologias mais recentes, incluindo Programação Reactiva, SwiftUI, MVVM e testes unitários. O candidato deve ter fortes habilidades de design e experiência em princípios de TDD e publicação de aplicativos na App Store. Além disso, o candidato deve ser um indivíduo motivado e apaixonado com habilidades de comunicação e inglês excelente.\n",
      "**Áreas de Foco para Desenvolvimento de Jogos para iOS**\n",
      "\n",
      "* Linguagens e ferramentas: Swift, Objective-C, Unity\n",
      "* Frameworks: SpriteKit, SceneKit\n",
      "* Recursos: gráficos 3D, animação\n",
      "\n",
      "**Objetivos Específicos**\n",
      "\n",
      "* Adquirir proficiência em linguagens e ferramentas de desenvolvimento de jogos para iOS\n",
      "* Dominar frameworks e recursos usados para criar experiências envolventes\n",
      "* Desenvolver jogos móveis interessantes e divertidos para iOS\n",
      "\n",
      "**Áreas de Foco para Comunicações API em iOS**\n",
      "\n",
      "* Tipos de APIs: HTTP, HTTPS, Sockets\n",
      "* Bibliotecas/ferramentas: Alamofire, URLSession, Codable\n",
      "* Escolha e uso de APIs adequadas para aplicativos\n",
      "* Teste de comunicações API em diversas condições\n",
      "\n",
      "**Objetivos Específicos**\n",
      "\n",
      "* Compreender os tipos de APIs disponíveis\n",
      "* Utilizar bibliotecas e ferramentas para facilitar a comunicação com APIs\n",
      "* Selecionar e implementar APIs que atendam às necessidades do aplicativo\n",
      "* Verificar e garantir o funcionamento adequado das comunicações API\n",
      "**Plano de Estudos para Aprimoramento de Desenvolvedores iOS**\n",
      "\n",
      "Este plano de estudos visa fornecer aos candidatos as habilidades e conhecimentos necessários para se destacarem como desenvolvedores iOS. Ele inclui cursos da Alura que abrangem conceitos essenciais e tecnologias avançadas:\n",
      "\n",
      "**Módulo 1: Fundamentos**\n",
      "\n",
      "* Formação: Fundamentos de SwiftUI - https://cursos.alura.com.br/formacao-fundamentos-swiftui\n",
      "\n",
      "**Módulo 2: Arquitetura de Aplicativos**\n",
      "\n",
      "* Formação: MVVM com SwiftUI - https://cursos.alura.com.br/formacao-mvvm-com-swiftui\n",
      "\n",
      "**Módulo 3: Gerenciamento de Dados**\n",
      "\n",
      "* Formação: Evolua Apps em SwiftUI: CRUD, MVVM e Autenticação - https://cursos.alura.com.br/formacao-apps-swiftui-crud-mvvm-autenticacao\n",
      "\n",
      "**Módulo 4: Avançado**\n",
      "\n",
      "* Formação: SwiftUI Avançado: Animações, Listas e Telas Personalizadas - https://cursos.alura.com.br/formacao-swiftui-avancado-animacoes-listas-telas-personalizadas\n"
     ]
    }
   ],
   "source": [
    "plan(\n",
    "    job_description=job_description,\n",
    "    depth=2,\n",
    "    availability=2\n",
    ")"
   ]
  },
  {
   "cell_type": "code",
   "execution_count": null,
   "metadata": {},
   "outputs": [],
   "source": []
  }
 ],
 "metadata": {
  "kernelspec": {
   "display_name": "Python 3 (ipykernel)",
   "language": "python",
   "name": "python3"
  },
  "language_info": {
   "codemirror_mode": {
    "name": "ipython",
    "version": 3
   },
   "file_extension": ".py",
   "mimetype": "text/x-python",
   "name": "python",
   "nbconvert_exporter": "python",
   "pygments_lexer": "ipython3",
   "version": "3.12.0"
  },
  "varInspector": {
   "cols": {
    "lenName": 16,
    "lenType": 16,
    "lenVar": 40
   },
   "kernels_config": {
    "python": {
     "delete_cmd_postfix": "",
     "delete_cmd_prefix": "del ",
     "library": "var_list.py",
     "varRefreshCmd": "print(var_dic_list())"
    },
    "r": {
     "delete_cmd_postfix": ") ",
     "delete_cmd_prefix": "rm(",
     "library": "var_list.r",
     "varRefreshCmd": "cat(var_dic_list()) "
    }
   },
   "types_to_exclude": [
    "module",
    "function",
    "builtin_function_or_method",
    "instance",
    "_Feature"
   ],
   "window_display": false
  }
 },
 "nbformat": 4,
 "nbformat_minor": 4
}
